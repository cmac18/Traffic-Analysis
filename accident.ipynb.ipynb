{
 "cells": [
  {
   "cell_type": "markdown",
   "metadata": {},
   "source": [
    "## Observations and Insights"
   ]
  },
  {
   "cell_type": "markdown",
   "metadata": {},
   "source": []
  },
  {
   "cell_type": "markdown",
   "metadata": {},
   "source": [
    "## Dependencies and starter code"
   ]
  },
  {
   "cell_type": "code",
   "execution_count": 1,
   "metadata": {},
   "outputs": [],
   "source": [
    "# Dependencies and Setup\n",
    "import json\n",
    "import requests\n",
    "import pandas as pd\n",
    "import gmaps\n",
    "import matplotlib.pyplot as plt\n",
    "import numpy as np"
   ]
  },
  {
   "cell_type": "code",
   "execution_count": 2,
   "metadata": {},
   "outputs": [],
   "source": [
    "#Read in csv files: original file is too big to read in as a whole.\n",
    "location = \"locations.csv\"\n",
    "location_df = pd.read_csv(location)\n",
    "\n",
    "date_time = \"date_time.csv\"\n",
    "date_time_df = pd.read_csv(date_time)\n",
    "\n",
    "weather = \"weather.csv\"\n",
    "weather_df = pd.read_csv(weather)\n",
    "\n",
    "severity = \"severity.csv\"\n",
    "severity_df = pd.read_csv(severity)"
   ]
  },
  {
   "cell_type": "code",
   "execution_count": 3,
   "metadata": {},
   "outputs": [],
   "source": [
    "#Merge files\n",
    "df = pd.concat([date_time_df, location_df, severity_df, weather_df], axis=1, join='inner')\n",
    "#df.set_index('ID', inplace=True)\n",
    "accident_df = pd.DataFrame(df)"
   ]
  },
  {
   "cell_type": "code",
   "execution_count": 4,
   "metadata": {},
   "outputs": [
    {
     "data": {
      "text/html": [
       "<div>\n",
       "<style scoped>\n",
       "    .dataframe tbody tr th:only-of-type {\n",
       "        vertical-align: middle;\n",
       "    }\n",
       "\n",
       "    .dataframe tbody tr th {\n",
       "        vertical-align: top;\n",
       "    }\n",
       "\n",
       "    .dataframe thead th {\n",
       "        text-align: right;\n",
       "    }\n",
       "</style>\n",
       "<table border=\"1\" class=\"dataframe\">\n",
       "  <thead>\n",
       "    <tr style=\"text-align: right;\">\n",
       "      <th></th>\n",
       "      <th>ID</th>\n",
       "      <th>Date</th>\n",
       "      <th>Time</th>\n",
       "      <th>Month</th>\n",
       "      <th>Day</th>\n",
       "      <th>Year</th>\n",
       "      <th>ID</th>\n",
       "      <th>Street</th>\n",
       "      <th>City</th>\n",
       "      <th>State</th>\n",
       "      <th>...</th>\n",
       "      <th>Severity</th>\n",
       "      <th>Side</th>\n",
       "      <th>ID</th>\n",
       "      <th>Temperature(F)</th>\n",
       "      <th>Humidity(%)</th>\n",
       "      <th>Visibility(mi)</th>\n",
       "      <th>Wind_Direction</th>\n",
       "      <th>Wind_Speed(mph)</th>\n",
       "      <th>Precipitation(in)</th>\n",
       "      <th>Weather_Condition</th>\n",
       "    </tr>\n",
       "  </thead>\n",
       "  <tbody>\n",
       "    <tr>\n",
       "      <th>0</th>\n",
       "      <td>A-10000</td>\n",
       "      <td>1/6/2017</td>\n",
       "      <td>4:22 PM</td>\n",
       "      <td>January</td>\n",
       "      <td>Friday</td>\n",
       "      <td>2017</td>\n",
       "      <td>A-10000</td>\n",
       "      <td>I-80 W</td>\n",
       "      <td>West Sacramento</td>\n",
       "      <td>CA</td>\n",
       "      <td>...</td>\n",
       "      <td>3</td>\n",
       "      <td>R</td>\n",
       "      <td>A-10000</td>\n",
       "      <td>46.0</td>\n",
       "      <td>71.0</td>\n",
       "      <td>10.0</td>\n",
       "      <td>NW</td>\n",
       "      <td>8.1</td>\n",
       "      <td>NaN</td>\n",
       "      <td>Clear</td>\n",
       "    </tr>\n",
       "    <tr>\n",
       "      <th>1</th>\n",
       "      <td>A-10001</td>\n",
       "      <td>1/6/2017</td>\n",
       "      <td>4:18 PM</td>\n",
       "      <td>January</td>\n",
       "      <td>Friday</td>\n",
       "      <td>2017</td>\n",
       "      <td>A-10001</td>\n",
       "      <td>CA-99 N</td>\n",
       "      <td>Salida</td>\n",
       "      <td>CA</td>\n",
       "      <td>...</td>\n",
       "      <td>2</td>\n",
       "      <td>R</td>\n",
       "      <td>A-10001</td>\n",
       "      <td>48.9</td>\n",
       "      <td>52.0</td>\n",
       "      <td>10.0</td>\n",
       "      <td>South</td>\n",
       "      <td>6.9</td>\n",
       "      <td>NaN</td>\n",
       "      <td>Clear</td>\n",
       "    </tr>\n",
       "    <tr>\n",
       "      <th>2</th>\n",
       "      <td>A-10002</td>\n",
       "      <td>1/6/2017</td>\n",
       "      <td>4:17 PM</td>\n",
       "      <td>January</td>\n",
       "      <td>Friday</td>\n",
       "      <td>2017</td>\n",
       "      <td>A-10002</td>\n",
       "      <td>CA-99 N</td>\n",
       "      <td>Salida</td>\n",
       "      <td>CA</td>\n",
       "      <td>...</td>\n",
       "      <td>2</td>\n",
       "      <td>R</td>\n",
       "      <td>A-10002</td>\n",
       "      <td>48.9</td>\n",
       "      <td>52.0</td>\n",
       "      <td>10.0</td>\n",
       "      <td>South</td>\n",
       "      <td>6.9</td>\n",
       "      <td>NaN</td>\n",
       "      <td>Clear</td>\n",
       "    </tr>\n",
       "    <tr>\n",
       "      <th>3</th>\n",
       "      <td>A-10003</td>\n",
       "      <td>1/6/2017</td>\n",
       "      <td>4:27 PM</td>\n",
       "      <td>January</td>\n",
       "      <td>Friday</td>\n",
       "      <td>2017</td>\n",
       "      <td>A-10003</td>\n",
       "      <td>CA-99 N</td>\n",
       "      <td>Salida</td>\n",
       "      <td>CA</td>\n",
       "      <td>...</td>\n",
       "      <td>2</td>\n",
       "      <td>R</td>\n",
       "      <td>A-10003</td>\n",
       "      <td>48.0</td>\n",
       "      <td>56.0</td>\n",
       "      <td>10.0</td>\n",
       "      <td>SE</td>\n",
       "      <td>3.5</td>\n",
       "      <td>NaN</td>\n",
       "      <td>Clear</td>\n",
       "    </tr>\n",
       "    <tr>\n",
       "      <th>4</th>\n",
       "      <td>A-10004</td>\n",
       "      <td>1/6/2017</td>\n",
       "      <td>4:40 PM</td>\n",
       "      <td>January</td>\n",
       "      <td>Friday</td>\n",
       "      <td>2017</td>\n",
       "      <td>A-10004</td>\n",
       "      <td>County Road 95</td>\n",
       "      <td>Davis</td>\n",
       "      <td>CA</td>\n",
       "      <td>...</td>\n",
       "      <td>2</td>\n",
       "      <td>L</td>\n",
       "      <td>A-10004</td>\n",
       "      <td>44.6</td>\n",
       "      <td>61.0</td>\n",
       "      <td>NaN</td>\n",
       "      <td>North</td>\n",
       "      <td>6.9</td>\n",
       "      <td>NaN</td>\n",
       "      <td>NaN</td>\n",
       "    </tr>\n",
       "  </tbody>\n",
       "</table>\n",
       "<p>5 rows × 21 columns</p>\n",
       "</div>"
      ],
      "text/plain": [
       "        ID      Date     Time    Month     Day  Year       ID          Street  \\\n",
       "0  A-10000  1/6/2017  4:22 PM  January  Friday  2017  A-10000          I-80 W   \n",
       "1  A-10001  1/6/2017  4:18 PM  January  Friday  2017  A-10001         CA-99 N   \n",
       "2  A-10002  1/6/2017  4:17 PM  January  Friday  2017  A-10002         CA-99 N   \n",
       "3  A-10003  1/6/2017  4:27 PM  January  Friday  2017  A-10003         CA-99 N   \n",
       "4  A-10004  1/6/2017  4:40 PM  January  Friday  2017  A-10004  County Road 95   \n",
       "\n",
       "              City State  ... Severity  Side       ID Temperature(F)  \\\n",
       "0  West Sacramento    CA  ...        3     R  A-10000           46.0   \n",
       "1           Salida    CA  ...        2     R  A-10001           48.9   \n",
       "2           Salida    CA  ...        2     R  A-10002           48.9   \n",
       "3           Salida    CA  ...        2     R  A-10003           48.0   \n",
       "4            Davis    CA  ...        2     L  A-10004           44.6   \n",
       "\n",
       "   Humidity(%)  Visibility(mi)  Wind_Direction Wind_Speed(mph)  \\\n",
       "0         71.0            10.0              NW             8.1   \n",
       "1         52.0            10.0           South             6.9   \n",
       "2         52.0            10.0           South             6.9   \n",
       "3         56.0            10.0              SE             3.5   \n",
       "4         61.0             NaN           North             6.9   \n",
       "\n",
       "   Precipitation(in)  Weather_Condition  \n",
       "0                NaN              Clear  \n",
       "1                NaN              Clear  \n",
       "2                NaN              Clear  \n",
       "3                NaN              Clear  \n",
       "4                NaN                NaN  \n",
       "\n",
       "[5 rows x 21 columns]"
      ]
     },
     "execution_count": 4,
     "metadata": {},
     "output_type": "execute_result"
    }
   ],
   "source": [
    "#Ensure data is read in and merged correctly\n",
    "accident_df.head()"
   ]
  },
  {
   "cell_type": "code",
   "execution_count": 5,
   "metadata": {},
   "outputs": [
    {
     "data": {
      "text/html": [
       "<div>\n",
       "<style scoped>\n",
       "    .dataframe tbody tr th:only-of-type {\n",
       "        vertical-align: middle;\n",
       "    }\n",
       "\n",
       "    .dataframe tbody tr th {\n",
       "        vertical-align: top;\n",
       "    }\n",
       "\n",
       "    .dataframe thead th {\n",
       "        text-align: right;\n",
       "    }\n",
       "</style>\n",
       "<table border=\"1\" class=\"dataframe\">\n",
       "  <thead>\n",
       "    <tr style=\"text-align: right;\">\n",
       "      <th></th>\n",
       "      <th>Year</th>\n",
       "      <th>Severity</th>\n",
       "      <th>Temperature(F)</th>\n",
       "      <th>Humidity(%)</th>\n",
       "      <th>Visibility(mi)</th>\n",
       "      <th>Wind_Speed(mph)</th>\n",
       "      <th>Precipitation(in)</th>\n",
       "    </tr>\n",
       "  </thead>\n",
       "  <tbody>\n",
       "    <tr>\n",
       "      <th>count</th>\n",
       "      <td>438997.000000</td>\n",
       "      <td>438997.000000</td>\n",
       "      <td>429128.000000</td>\n",
       "      <td>428541.000000</td>\n",
       "      <td>426058.000000</td>\n",
       "      <td>357112.000000</td>\n",
       "      <td>45349.000000</td>\n",
       "    </tr>\n",
       "    <tr>\n",
       "      <th>mean</th>\n",
       "      <td>2016.466422</td>\n",
       "      <td>2.367148</td>\n",
       "      <td>63.708555</td>\n",
       "      <td>65.338901</td>\n",
       "      <td>9.184726</td>\n",
       "      <td>8.982098</td>\n",
       "      <td>0.075767</td>\n",
       "    </tr>\n",
       "    <tr>\n",
       "      <th>std</th>\n",
       "      <td>0.498872</td>\n",
       "      <td>0.484799</td>\n",
       "      <td>17.232990</td>\n",
       "      <td>21.334785</td>\n",
       "      <td>2.193992</td>\n",
       "      <td>4.633510</td>\n",
       "      <td>0.600242</td>\n",
       "    </tr>\n",
       "    <tr>\n",
       "      <th>min</th>\n",
       "      <td>2016.000000</td>\n",
       "      <td>0.000000</td>\n",
       "      <td>-77.800000</td>\n",
       "      <td>4.000000</td>\n",
       "      <td>0.000000</td>\n",
       "      <td>1.200000</td>\n",
       "      <td>0.000000</td>\n",
       "    </tr>\n",
       "    <tr>\n",
       "      <th>25%</th>\n",
       "      <td>2016.000000</td>\n",
       "      <td>2.000000</td>\n",
       "      <td>53.100000</td>\n",
       "      <td>50.000000</td>\n",
       "      <td>10.000000</td>\n",
       "      <td>5.800000</td>\n",
       "      <td>0.000000</td>\n",
       "    </tr>\n",
       "    <tr>\n",
       "      <th>50%</th>\n",
       "      <td>2016.000000</td>\n",
       "      <td>2.000000</td>\n",
       "      <td>65.500000</td>\n",
       "      <td>67.000000</td>\n",
       "      <td>10.000000</td>\n",
       "      <td>8.100000</td>\n",
       "      <td>0.010000</td>\n",
       "    </tr>\n",
       "    <tr>\n",
       "      <th>75%</th>\n",
       "      <td>2017.000000</td>\n",
       "      <td>3.000000</td>\n",
       "      <td>77.000000</td>\n",
       "      <td>83.000000</td>\n",
       "      <td>10.000000</td>\n",
       "      <td>11.500000</td>\n",
       "      <td>0.040000</td>\n",
       "    </tr>\n",
       "    <tr>\n",
       "      <th>max</th>\n",
       "      <td>2017.000000</td>\n",
       "      <td>4.000000</td>\n",
       "      <td>123.800000</td>\n",
       "      <td>100.000000</td>\n",
       "      <td>105.000000</td>\n",
       "      <td>241.700000</td>\n",
       "      <td>10.140000</td>\n",
       "    </tr>\n",
       "  </tbody>\n",
       "</table>\n",
       "</div>"
      ],
      "text/plain": [
       "                Year       Severity  Temperature(F)    Humidity(%)  \\\n",
       "count  438997.000000  438997.000000   429128.000000  428541.000000   \n",
       "mean     2016.466422       2.367148       63.708555      65.338901   \n",
       "std         0.498872       0.484799       17.232990      21.334785   \n",
       "min      2016.000000       0.000000      -77.800000       4.000000   \n",
       "25%      2016.000000       2.000000       53.100000      50.000000   \n",
       "50%      2016.000000       2.000000       65.500000      67.000000   \n",
       "75%      2017.000000       3.000000       77.000000      83.000000   \n",
       "max      2017.000000       4.000000      123.800000     100.000000   \n",
       "\n",
       "       Visibility(mi)  Wind_Speed(mph)  Precipitation(in)  \n",
       "count   426058.000000    357112.000000       45349.000000  \n",
       "mean         9.184726         8.982098           0.075767  \n",
       "std          2.193992         4.633510           0.600242  \n",
       "min          0.000000         1.200000           0.000000  \n",
       "25%         10.000000         5.800000           0.000000  \n",
       "50%         10.000000         8.100000           0.010000  \n",
       "75%         10.000000        11.500000           0.040000  \n",
       "max        105.000000       241.700000          10.140000  "
      ]
     },
     "execution_count": 5,
     "metadata": {},
     "output_type": "execute_result"
    }
   ],
   "source": [
    "#Basic statistics of the data\n",
    "accident_df.describe()"
   ]
  },
  {
   "cell_type": "code",
   "execution_count": 6,
   "metadata": {},
   "outputs": [
    {
     "name": "stdout",
     "output_type": "stream",
     "text": [
      "<class 'pandas.core.frame.DataFrame'>\n",
      "RangeIndex: 438997 entries, 0 to 438996\n",
      "Data columns (total 21 columns):\n",
      "ID                   438997 non-null object\n",
      "Date                 438997 non-null object\n",
      "Time                 438997 non-null object\n",
      "Month                438997 non-null object\n",
      "Day                  438997 non-null object\n",
      "Year                 438997 non-null int64\n",
      "ID                   438997 non-null object\n",
      "Street               438997 non-null object\n",
      "City                 438979 non-null object\n",
      "State                438997 non-null object\n",
      "ID                   438997 non-null object\n",
      "Severity             438997 non-null int64\n",
      "Side                 438997 non-null object\n",
      "ID                   438997 non-null object\n",
      "Temperature(F)       429128 non-null float64\n",
      "Humidity(%)          428541 non-null float64\n",
      "Visibility(mi)       426058 non-null float64\n",
      "Wind_Direction       431998 non-null object\n",
      "Wind_Speed(mph)      357112 non-null float64\n",
      "Precipitation(in)    45349 non-null float64\n",
      "Weather_Condition    426398 non-null object\n",
      "dtypes: float64(5), int64(2), object(14)\n",
      "memory usage: 70.3+ MB\n"
     ]
    }
   ],
   "source": [
    "#Look for null objects\n",
    "accident_df.info()"
   ]
  },
  {
   "cell_type": "code",
   "execution_count": 7,
   "metadata": {},
   "outputs": [
    {
     "name": "stdout",
     "output_type": "stream",
     "text": [
      "State names in Dataset\n",
      "['CA' 'FL' 'GA' 'SC' 'NE' 'IA' 'IL' 'MO' 'WI' 'IN' 'MI' 'OH' 'NJ' 'NY'\n",
      " 'CT' 'MA' 'RI' 'NH' 'PA' 'MD' 'VA' 'DC' 'DE' 'WV' 'TX' 'WA' 'OR' 'KY'\n",
      " 'AL']\n",
      "\n",
      "Dates in Dataset\n",
      "['1/1/2017' '1/10/2017' '1/11/2017' '1/12/2017' '1/13/2017' '1/14/2017'\n",
      " '1/15/2017' '1/16/2017' '1/17/2017' '1/18/2017' '1/19/2017' '1/2/2017'\n",
      " '1/20/2017' '1/21/2017' '1/22/2017' '1/23/2017' '1/24/2017' '1/25/2017'\n",
      " '1/26/2017' '1/27/2017' '1/28/2017' '1/29/2017' '1/3/2017' '1/30/2017'\n",
      " '1/31/2017' '1/4/2017' '1/5/2017' '1/6/2017' '1/7/2017' '1/8/2017'\n",
      " '1/9/2017' '10/1/2016' '10/10/2016' '10/11/2016' '10/12/2016'\n",
      " '10/13/2016' '10/14/2016' '10/15/2016' '10/16/2016' '10/17/2016'\n",
      " '10/18/2016' '10/19/2016' '10/2/2016' '10/20/2016' '10/21/2016'\n",
      " '10/22/2016' '10/23/2016' '10/24/2016' '10/25/2016' '10/26/2016'\n",
      " '10/27/2016' '10/29/2016' '10/3/2016' '10/30/2016' '10/31/2016'\n",
      " '10/4/2016' '10/5/2016' '10/6/2016' '10/7/2016' '10/8/2016' '10/9/2016'\n",
      " '11/1/2016' '11/10/2016' '11/11/2016' '11/12/2016' '11/13/2016'\n",
      " '11/14/2016' '11/15/2016' '11/16/2016' '11/17/2016' '11/18/2016'\n",
      " '11/19/2016' '11/2/2016' '11/20/2016' '11/21/2016' '11/22/2016'\n",
      " '11/23/2016' '11/24/2016' '11/25/2016' '11/26/2016' '11/27/2016'\n",
      " '11/28/2016' '11/29/2016' '11/3/2016' '11/30/2016' '11/4/2016'\n",
      " '11/5/2016' '11/6/2016' '11/7/2016' '11/8/2016' '11/9/2016' '12/1/2016'\n",
      " '12/10/2016' '12/11/2016' '12/12/2016' '12/13/2016' '12/14/2016'\n",
      " '12/15/2016' '12/16/2016' '12/17/2016' '12/18/2016' '12/19/2016'\n",
      " '12/2/2016' '12/20/2016' '12/21/2016' '12/22/2016' '12/23/2016'\n",
      " '12/24/2016' '12/25/2016' '12/26/2016' '12/27/2016' '12/28/2016'\n",
      " '12/29/2016' '12/3/2016' '12/30/2016' '12/31/2016' '12/4/2016'\n",
      " '12/5/2016' '12/6/2016' '12/7/2016' '12/8/2016' '12/9/2016' '2/1/2017'\n",
      " '2/10/2017' '2/11/2017' '2/12/2017' '2/13/2017' '2/14/2017' '2/15/2017'\n",
      " '2/16/2017' '2/17/2017' '2/18/2017' '2/19/2017' '2/2/2017' '2/20/2017'\n",
      " '2/21/2017' '2/22/2017' '2/23/2017' '2/24/2017' '2/25/2017' '2/26/2017'\n",
      " '2/27/2017' '2/28/2017' '2/3/2017' '2/4/2017' '2/5/2017' '2/6/2017'\n",
      " '2/7/2017' '2/8/2017' '2/9/2017' '3/1/2017' '3/10/2017' '3/11/2017'\n",
      " '3/12/2017' '3/13/2017' '3/14/2017' '3/15/2017' '3/16/2017' '3/17/2017'\n",
      " '3/18/2017' '3/19/2017' '3/2/2017' '3/20/2017' '3/21/2017' '3/22/2017'\n",
      " '3/23/2017' '3/24/2017' '3/25/2017' '3/26/2017' '3/27/2017' '3/28/2017'\n",
      " '3/29/2017' '3/3/2017' '3/30/2017' '3/31/2017' '3/4/2017' '3/5/2017'\n",
      " '3/6/2017' '3/7/2017' '3/8/2017' '3/9/2017' '4/1/2017' '4/10/2017'\n",
      " '4/11/2017' '4/12/2017' '4/13/2017' '4/14/2017' '4/15/2017' '4/16/2017'\n",
      " '4/17/2017' '4/18/2017' '4/19/2017' '4/2/2017' '4/20/2017' '4/21/2017'\n",
      " '4/22/2017' '4/23/2017' '4/24/2017' '4/25/2017' '4/26/2017' '4/27/2017'\n",
      " '4/28/2017' '4/29/2017' '4/3/2017' '4/30/2017' '4/4/2017' '4/5/2017'\n",
      " '4/6/2017' '4/7/2017' '4/8/2017' '4/9/2017' '5/1/2017' '5/10/2017'\n",
      " '5/11/2017' '5/12/2017' '5/13/2017' '5/14/2017' '5/15/2017' '5/16/2017'\n",
      " '5/17/2017' '5/18/2017' '5/19/2017' '5/2/2017' '5/20/2017' '5/21/2017'\n",
      " '5/22/2017' '5/23/2017' '5/24/2017' '5/25/2017' '5/3/2017' '5/4/2017'\n",
      " '5/5/2017' '5/6/2017' '5/7/2017' '5/8/2017' '5/9/2017' '6/1/2017'\n",
      " '6/10/2017' '6/11/2017' '6/12/2017' '6/13/2017' '6/14/2017' '6/15/2017'\n",
      " '6/16/2017' '6/17/2017' '6/18/2017' '6/19/2017' '6/2/2017' '6/20/2017'\n",
      " '6/21/2017' '6/22/2017' '6/23/2017' '6/24/2017' '6/25/2017' '6/26/2017'\n",
      " '6/27/2017' '6/28/2017' '6/29/2017' '6/3/2017' '6/30/2017' '6/4/2017'\n",
      " '6/5/2017' '6/6/2017' '6/7/2017' '6/8/2017' '6/9/2017' '7/1/2016'\n",
      " '7/10/2016' '7/11/2016' '7/12/2016' '7/13/2016' '7/14/2016' '7/15/2016'\n",
      " '7/16/2016' '7/17/2016' '7/18/2016' '7/19/2016' '7/2/2016' '7/20/2016'\n",
      " '7/21/2016' '7/22/2016' '7/23/2016' '7/24/2016' '7/25/2016' '7/26/2016'\n",
      " '7/27/2016' '7/28/2016' '7/29/2016' '7/3/2016' '7/30/2016' '7/31/2016'\n",
      " '7/4/2016' '7/5/2016' '7/6/2016' '7/7/2016' '7/8/2016' '7/9/2016'\n",
      " '8/1/2016' '8/10/2016' '8/11/2016' '8/12/2016' '8/13/2016' '8/14/2016'\n",
      " '8/15/2016' '8/16/2016' '8/17/2016' '8/18/2016' '8/19/2016' '8/2/2016'\n",
      " '8/20/2016' '8/21/2016' '8/22/2016' '8/23/2016' '8/24/2016' '8/25/2016'\n",
      " '8/26/2016' '8/27/2016' '8/28/2016' '8/29/2016' '8/3/2016' '8/30/2016'\n",
      " '8/31/2016' '8/4/2016' '8/5/2016' '8/6/2016' '8/7/2016' '8/8/2016'\n",
      " '8/9/2016' '9/1/2016' '9/10/2016' '9/11/2016' '9/12/2016' '9/13/2016'\n",
      " '9/14/2016' '9/15/2016' '9/16/2016' '9/17/2016' '9/18/2016' '9/19/2016'\n",
      " '9/2/2016' '9/20/2016' '9/21/2016' '9/22/2016' '9/23/2016' '9/24/2016'\n",
      " '9/25/2016' '9/26/2016' '9/27/2016' '9/28/2016' '9/29/2016' '9/3/2016'\n",
      " '9/30/2016' '9/4/2016' '9/5/2016' '9/6/2016' '9/7/2016' '9/8/2016'\n",
      " '9/9/2016']\n",
      "\n",
      "Weather conditions in Dataset\n",
      "['Clear' nan 'Mostly Cloudy' 'Overcast' 'Partly Cloudy' 'Scattered Clouds'\n",
      " 'Light Rain' 'Rain' 'Haze' 'Heavy Rain' 'Light Thunderstorms and Rain'\n",
      " 'Light Drizzle' 'Fog' 'Patches of Fog' 'Mist'\n",
      " 'Heavy Thunderstorms and Rain' 'Thunderstorm' 'Shallow Fog' 'Light Snow'\n",
      " 'Light Rain Showers' 'Drizzle' 'Smoke' 'Thunderstorms and Rain'\n",
      " 'Funnel Cloud' 'Light Freezing Fog' 'Light Freezing Rain' 'Snow'\n",
      " 'Light Freezing Drizzle' 'Blowing Snow' 'Light Thunderstorms and Snow'\n",
      " 'Heavy Snow' 'Low Drifting Snow' 'Light Ice Pellets' 'Ice Pellets'\n",
      " 'Rain Showers' 'Heavy Drizzle' 'Squalls' 'Light Fog' 'Sand' 'Snow Grains'\n",
      " 'Widespread Dust' 'Snow Showers' 'Heavy Thunderstorms and Snow'\n",
      " 'Volcanic Ash' 'Heavy Ice Pellets' 'Heavy Freezing Rain' 'Small Hail'\n",
      " 'Heavy Rain Showers' 'Blowing Sand' 'Hail' 'Light Haze']\n"
     ]
    }
   ],
   "source": [
    "#Find out number of states\n",
    "print(\"State names in Dataset\")\n",
    "print(accident_df.State.unique())\n",
    "\n",
    "#Find dates in dataset\n",
    "print(\"\\nDates in Dataset\")\n",
    "print(np.sort(accident_df.Date.unique()))\n",
    "\n",
    "#Find different weather conditions\n",
    "print(\"\\nWeather conditions in Dataset\")\n",
    "print(accident_df.Weather_Condition.unique())"
   ]
  },
  {
   "cell_type": "code",
   "execution_count": 8,
   "metadata": {},
   "outputs": [
    {
     "data": {
      "text/plain": [
       "CA    132185\n",
       "TX     74796\n",
       "FL     46349\n",
       "PA     29872\n",
       "MI     24276\n",
       "NY     24059\n",
       "GA     17299\n",
       "IL     16453\n",
       "WA     10710\n",
       "MD      9836\n",
       "OH      9045\n",
       "NJ      8267\n",
       "MA      7724\n",
       "VA      7627\n",
       "NE      6426\n",
       "CT      3923\n",
       "SC      3825\n",
       "IA      1932\n",
       "MO      1849\n",
       "RI      1509\n",
       "DC       574\n",
       "NH       145\n",
       "DE        99\n",
       "WI        68\n",
       "OR        62\n",
       "IN        41\n",
       "WV        40\n",
       "KY         3\n",
       "AL         3\n",
       "Name: State, dtype: int64"
      ]
     },
     "execution_count": 8,
     "metadata": {},
     "output_type": "execute_result"
    }
   ],
   "source": [
    "#Look at accidents by state\n",
    "accidents_by_state = accident_df[\"State\"].value_counts()\n",
    "accidents_by_state"
   ]
  },
  {
   "cell_type": "code",
   "execution_count": 9,
   "metadata": {},
   "outputs": [
    {
     "data": {
      "image/png": "[encoded data removed]",
      "text/plain": [
       "<Figure size 720x432 with 1 Axes>"
      ]
     },
     "metadata": {
      "needs_background": "light"
     },
     "output_type": "display_data"
    }
   ],
   "source": [
    "#Chart accidents by state\n",
    "chart_accidents_by_state = accidents_by_state.plot(kind='bar', rot=50, figsize = (10, 6), width = .8, color = \"#0D47A1\")\n",
    "plt.title(\"Accidents by State\", size =18, color=\"#0D47A1\")\n",
    "plt.xlabel(\"State\",size =14, color=\"#0D47A1\")\n",
    "plt.ylabel(\"Number of Accidents\",size =14, color=\"#0D47A1\")\n",
    "plt.tight_layout()\n",
    "plt.savefig(\"Images/state.png\")\n",
    "plt.show()"
   ]
  },
  {
   "cell_type": "code",
   "execution_count": 10,
   "metadata": {},
   "outputs": [
    {
     "data": {
      "text/plain": [
       "Tuesday      79108\n",
       "Friday       78590\n",
       "Thursday     77853\n",
       "Wednesday    77675\n",
       "Monday       74167\n",
       "Saturday     27494\n",
       "Sunday       24110\n",
       "Name: Day, dtype: int64"
      ]
     },
     "execution_count": 10,
     "metadata": {},
     "output_type": "execute_result"
    }
   ],
   "source": [
    "#Look at accidents by day of week\n",
    "accident_day = accident_df[\"Day\"].value_counts()\n",
    "accident_day"
   ]
  },
  {
   "cell_type": "code",
   "execution_count": 11,
   "metadata": {},
   "outputs": [
    {
     "data": {
      "image/png": "[encoded data removed]",
      "text/plain": [
       "<Figure size 720x432 with 1 Axes>"
      ]
     },
     "metadata": {
      "needs_background": "light"
     },
     "output_type": "display_data"
    }
   ],
   "source": [
    "#Chart accidents by day of week\n",
    "chart_accident_day = accident_day.plot(kind='bar', rot=50, figsize = (10, 6), width = .8, color = \"#0D47A1\")\n",
    "plt.title(\"Accidents by Day of Week\", size =18, color=\"#0D47A1\")\n",
    "plt.xlabel(\"Day\",size =14, color=\"#0D47A1\")\n",
    "plt.ylabel(\"Number of Accidents\",size =14, color=\"#0D47A1\")\n",
    "plt.tight_layout()\n",
    "plt.savefig(\"Images/day.png\")\n",
    "plt.show()"
   ]
  },
  {
   "cell_type": "code",
   "execution_count": 12,
   "metadata": {},
   "outputs": [
    {
     "data": {
      "text/plain": [
       "11/30/2016    2138\n",
       "12/16/2016    2110\n",
       "11/29/2016    2081\n",
       "11/15/2016    2078\n",
       "11/23/2016    2064\n",
       "11/21/2016    2054\n",
       "11/22/2016    2040\n",
       "11/14/2016    2026\n",
       "11/10/2016    2024\n",
       "11/16/2016    2020\n",
       "Name: Date, dtype: int64"
      ]
     },
     "execution_count": 12,
     "metadata": {},
     "output_type": "execute_result"
    }
   ],
   "source": [
    "#Look at accidents by date\n",
    "accident_date = accident_df[\"Date\"].value_counts()\n",
    "accident_date.head(10)"
   ]
  },
  {
   "cell_type": "code",
   "execution_count": 13,
   "metadata": {},
   "outputs": [
    {
     "data": {
      "text/plain": [
       "November     46540\n",
       "December     40655\n",
       "September    39565\n",
       "March        39465\n",
       "January      38719\n",
       "August       38541\n",
       "October      38178\n",
       "February     35374\n",
       "April        33645\n",
       "June         32128\n",
       "Name: Month, dtype: int64"
      ]
     },
     "execution_count": 13,
     "metadata": {},
     "output_type": "execute_result"
    }
   ],
   "source": [
    "#Look at accidents by month\n",
    "accident_month = accident_df[\"Month\"].value_counts()\n",
    "accident_month.head(10)"
   ]
  },
  {
   "cell_type": "code",
   "execution_count": 14,
   "metadata": {},
   "outputs": [
    {
     "data": {
      "text/html": [
       "<div>\n",
       "<style scoped>\n",
       "    .dataframe tbody tr th:only-of-type {\n",
       "        vertical-align: middle;\n",
       "    }\n",
       "\n",
       "    .dataframe tbody tr th {\n",
       "        vertical-align: top;\n",
       "    }\n",
       "\n",
       "    .dataframe thead th {\n",
       "        text-align: right;\n",
       "    }\n",
       "</style>\n",
       "<table border=\"1\" class=\"dataframe\">\n",
       "  <thead>\n",
       "    <tr style=\"text-align: right;\">\n",
       "      <th></th>\n",
       "      <th>Month</th>\n",
       "      <th>Number of Accidents</th>\n",
       "    </tr>\n",
       "  </thead>\n",
       "  <tbody>\n",
       "    <tr>\n",
       "      <th>0</th>\n",
       "      <td>January</td>\n",
       "      <td>38719</td>\n",
       "    </tr>\n",
       "    <tr>\n",
       "      <th>1</th>\n",
       "      <td>February</td>\n",
       "      <td>35374</td>\n",
       "    </tr>\n",
       "    <tr>\n",
       "      <th>2</th>\n",
       "      <td>March</td>\n",
       "      <td>39465</td>\n",
       "    </tr>\n",
       "    <tr>\n",
       "      <th>3</th>\n",
       "      <td>April</td>\n",
       "      <td>33645</td>\n",
       "    </tr>\n",
       "    <tr>\n",
       "      <th>4</th>\n",
       "      <td>May</td>\n",
       "      <td>25427</td>\n",
       "    </tr>\n",
       "    <tr>\n",
       "      <th>5</th>\n",
       "      <td>June</td>\n",
       "      <td>32128</td>\n",
       "    </tr>\n",
       "    <tr>\n",
       "      <th>6</th>\n",
       "      <td>July</td>\n",
       "      <td>30760</td>\n",
       "    </tr>\n",
       "    <tr>\n",
       "      <th>7</th>\n",
       "      <td>August</td>\n",
       "      <td>38541</td>\n",
       "    </tr>\n",
       "    <tr>\n",
       "      <th>8</th>\n",
       "      <td>September</td>\n",
       "      <td>39565</td>\n",
       "    </tr>\n",
       "    <tr>\n",
       "      <th>9</th>\n",
       "      <td>October</td>\n",
       "      <td>38178</td>\n",
       "    </tr>\n",
       "    <tr>\n",
       "      <th>10</th>\n",
       "      <td>November</td>\n",
       "      <td>46540</td>\n",
       "    </tr>\n",
       "    <tr>\n",
       "      <th>11</th>\n",
       "      <td>December</td>\n",
       "      <td>40655</td>\n",
       "    </tr>\n",
       "  </tbody>\n",
       "</table>\n",
       "</div>"
      ],
      "text/plain": [
       "        Month  Number of Accidents\n",
       "0     January                38719\n",
       "1    February                35374\n",
       "2       March                39465\n",
       "3       April                33645\n",
       "4         May                25427\n",
       "5        June                32128\n",
       "6        July                30760\n",
       "7      August                38541\n",
       "8   September                39565\n",
       "9     October                38178\n",
       "10   November                46540\n",
       "11   December                40655"
      ]
     },
     "execution_count": 14,
     "metadata": {},
     "output_type": "execute_result"
    }
   ],
   "source": [
    "#Set up for axis in scatter\n",
    "month = [\"January\", \"February\", \"March\", \"April\", \"May\", \"June\", \"July\", \"August\", \"September\", \"October\",\n",
    "         \"November\", \"December\"]\n",
    "accidents = [38719, 35374, 39465, 33645, 25427, 32128, 30760, 38541, 39565, 38178, 46540, 40655]\n",
    "accidents_by_month_df = pd.DataFrame({\"Month\": month, \"Number of Accidents\": accidents})\n",
    "accidents_by_month_df\n",
    " "
   ]
  },
  {
   "cell_type": "code",
   "execution_count": 15,
   "metadata": {
    "scrolled": false
   },
   "outputs": [
    {
     "name": "stderr",
     "output_type": "stream",
     "text": [
      "C:\\Users\\Euneese\\Anaconda3\\envs\\PythonData\\lib\\site-packages\\pandas\\plotting\\_matplotlib\\core.py:203: UserWarning: 'colors' is being deprecated. Please use 'color'instead of 'colors'\n",
      "  \"'colors' is being deprecated. Please use 'color'\"\n"
     ]
    },
    {
     "data": {
      "image/png": "[encoded data removed]",
      "text/plain": [
       "<Figure size 1080x360 with 1 Axes>"
      ]
     },
     "metadata": {
      "needs_background": "light"
     },
     "output_type": "display_data"
    }
   ],
   "source": [
    "#Create scatter plot for accidents by month\n",
    "accidents_by_month_df.plot(rot=50, figsize=(15,5), marker=\"o\", colors=\"#0D47A1\",\n",
    "                            markersize=20, legend = False)\n",
    "plt.ylim(22000, 48000)\n",
    "labels = [\"January\", \"February\", \"March\", \"April\", \"May\", \"June\", \"July\", \"August\", \"September\", \"October\",\n",
    "         \"November\", \"December\"]\n",
    "ticks = np.arange(0,len(labels),1)\n",
    "plt.xticks(ticks, labels)\n",
    "plt.title(\"Accidents by Month\", size =18, color=\"#0D47A1\")\n",
    "plt.xlabel(\"Month\", size =14, color=\"#0D47A1\")\n",
    "plt.ylabel(\"Number of Accidents\", size =14, color=\"#0D47A1\")\n",
    "plt.grid(True)\n",
    "plt.tight_layout()\n",
    "\n",
    "plt.savefig(\"Images/month.png\")\n",
    "plt.show()\n"
   ]
  },
  {
   "cell_type": "code",
   "execution_count": 16,
   "metadata": {},
   "outputs": [
    {
     "data": {
      "text/plain": [
       "2016    234239\n",
       "2017    204758\n",
       "Name: Year, dtype: int64"
      ]
     },
     "execution_count": 16,
     "metadata": {},
     "output_type": "execute_result"
    }
   ],
   "source": [
    "#Look at accidents by year\n",
    "accident_year = accident_df[\"Year\"].value_counts()\n",
    "accident_year"
   ]
  },
  {
   "cell_type": "code",
   "execution_count": 17,
   "metadata": {},
   "outputs": [
    {
     "data": {
      "image/png": "[encoded data removed]",
      "text/plain": [
       "<Figure size 720x432 with 1 Axes>"
      ]
     },
     "metadata": {
      "needs_background": "light"
     },
     "output_type": "display_data"
    }
   ],
   "source": [
    "#Create horizontal bar chart for accidents by year\n",
    "accident_year = accident_year.plot(kind='barh', rot=50, figsize = (10, 6), width = .8, color = \"#0D47A1\")\n",
    "plt.title(\"Accidents by Year\", size =18, color=\"#0D47A1\")\n",
    "plt.xlabel(\"Number of Accidents\",size =14, color=\"#0D47A1\")\n",
    "plt.ylabel(\"Year\",size =14, color=\"#0D47A1\")\n",
    "plt.tight_layout()\n",
    "plt.savefig(\"Images/year.png\")\n",
    "plt.show()"
   ]
  },
  {
   "cell_type": "code",
   "execution_count": 18,
   "metadata": {},
   "outputs": [
    {
     "data": {
      "text/plain": [
       "R    358010\n",
       "L     80986\n",
       "          1\n",
       "Name: Side, dtype: int64"
      ]
     },
     "execution_count": 18,
     "metadata": {},
     "output_type": "execute_result"
    }
   ],
   "source": [
    "#Distribution plot of accidents occuring on the left/right side of the road\n",
    "road_side_count = accident_df[\"Side\"].value_counts()\n",
    "road_side_count"
   ]
  },
  {
   "cell_type": "code",
   "execution_count": 19,
   "metadata": {},
   "outputs": [
    {
     "data": {
      "image/png": "[encoded data removed]",
      "text/plain": [
       "<Figure size 432x288 with 1 Axes>"
      ]
     },
     "metadata": {},
     "output_type": "display_data"
    }
   ],
   "source": [
    "#Create pie chart for accidents by side of road\n",
    "# Labels for the sections of our pie chart\n",
    "labels = [\"Right Side\", \"Left Side\"]\n",
    "\n",
    "# The values of each section of the pie chart\n",
    "sizes = [358017, 80987]\n",
    "\n",
    "# The colors of each section of the pie chart\n",
    "colors = [\"red\", \"lightskyblue\"]\n",
    "\n",
    "# plot to show left and right side accidents\n",
    "explode = (0.3, 0)\n",
    "plt.pie(sizes, explode=explode, labels=labels, colors=colors,\n",
    "        autopct=\"%1.1f%%\", shadow=True, startangle=140)\n",
    "plt.savefig(\"Images/road_side.png\")\n",
    "plt.tight_layout()"
   ]
  },
  {
   "cell_type": "code",
   "execution_count": 20,
   "metadata": {},
   "outputs": [
    {
     "data": {
      "text/html": [
       "<div>\n",
       "<style scoped>\n",
       "    .dataframe tbody tr th:only-of-type {\n",
       "        vertical-align: middle;\n",
       "    }\n",
       "\n",
       "    .dataframe tbody tr th {\n",
       "        vertical-align: top;\n",
       "    }\n",
       "\n",
       "    .dataframe thead th {\n",
       "        text-align: right;\n",
       "    }\n",
       "</style>\n",
       "<table border=\"1\" class=\"dataframe\">\n",
       "  <thead>\n",
       "    <tr style=\"text-align: right;\">\n",
       "      <th></th>\n",
       "      <th>Number of Accidents</th>\n",
       "    </tr>\n",
       "  </thead>\n",
       "  <tbody>\n",
       "    <tr>\n",
       "      <th>77.0</th>\n",
       "      <td>11158</td>\n",
       "    </tr>\n",
       "    <tr>\n",
       "      <th>68.0</th>\n",
       "      <td>10963</td>\n",
       "    </tr>\n",
       "    <tr>\n",
       "      <th>59.0</th>\n",
       "      <td>10119</td>\n",
       "    </tr>\n",
       "    <tr>\n",
       "      <th>73.0</th>\n",
       "      <td>7452</td>\n",
       "    </tr>\n",
       "    <tr>\n",
       "      <th>73.9</th>\n",
       "      <td>7406</td>\n",
       "    </tr>\n",
       "    <tr>\n",
       "      <th>63.0</th>\n",
       "      <td>7328</td>\n",
       "    </tr>\n",
       "    <tr>\n",
       "      <th>70.0</th>\n",
       "      <td>7129</td>\n",
       "    </tr>\n",
       "    <tr>\n",
       "      <th>72.0</th>\n",
       "      <td>7114</td>\n",
       "    </tr>\n",
       "    <tr>\n",
       "      <th>66.9</th>\n",
       "      <td>7106</td>\n",
       "    </tr>\n",
       "    <tr>\n",
       "      <th>62.1</th>\n",
       "      <td>7093</td>\n",
       "    </tr>\n",
       "    <tr>\n",
       "      <th>64.9</th>\n",
       "      <td>7073</td>\n",
       "    </tr>\n",
       "    <tr>\n",
       "      <th>75.0</th>\n",
       "      <td>7007</td>\n",
       "    </tr>\n",
       "    <tr>\n",
       "      <th>75.9</th>\n",
       "      <td>6996</td>\n",
       "    </tr>\n",
       "    <tr>\n",
       "      <th>50.0</th>\n",
       "      <td>6950</td>\n",
       "    </tr>\n",
       "    <tr>\n",
       "      <th>64.0</th>\n",
       "      <td>6917</td>\n",
       "    </tr>\n",
       "    <tr>\n",
       "      <th>66.0</th>\n",
       "      <td>6897</td>\n",
       "    </tr>\n",
       "    <tr>\n",
       "      <th>60.1</th>\n",
       "      <td>6881</td>\n",
       "    </tr>\n",
       "    <tr>\n",
       "      <th>71.1</th>\n",
       "      <td>6856</td>\n",
       "    </tr>\n",
       "    <tr>\n",
       "      <th>69.1</th>\n",
       "      <td>6838</td>\n",
       "    </tr>\n",
       "    <tr>\n",
       "      <th>61.0</th>\n",
       "      <td>6834</td>\n",
       "    </tr>\n",
       "  </tbody>\n",
       "</table>\n",
       "</div>"
      ],
      "text/plain": [
       "      Number of Accidents\n",
       "77.0                11158\n",
       "68.0                10963\n",
       "59.0                10119\n",
       "73.0                 7452\n",
       "73.9                 7406\n",
       "63.0                 7328\n",
       "70.0                 7129\n",
       "72.0                 7114\n",
       "66.9                 7106\n",
       "62.1                 7093\n",
       "64.9                 7073\n",
       "75.0                 7007\n",
       "75.9                 6996\n",
       "50.0                 6950\n",
       "64.0                 6917\n",
       "66.0                 6897\n",
       "60.1                 6881\n",
       "71.1                 6856\n",
       "69.1                 6838\n",
       "61.0                 6834"
      ]
     },
     "execution_count": 20,
     "metadata": {},
     "output_type": "execute_result"
    }
   ],
   "source": [
    "#Get number of accidents at temperatur points\n",
    "temperature = accident_df[\"Temperature(F)\"].value_counts()\n",
    "temperature_count_df = pd.DataFrame({\"Number of Accidents\":temperature})\n",
    "temperature_count_df = temperature_count_df.sort_values(\"Number of Accidents\", ascending = False)\n",
    "temperature_count_df.head(20)"
   ]
  },
  {
   "cell_type": "code",
   "execution_count": 21,
   "metadata": {},
   "outputs": [
    {
     "data": {
      "image/png": "[encoded data removed]",
      "text/plain": [
       "<Figure size 432x288 with 1 Axes>"
      ]
     },
     "metadata": {},
     "output_type": "display_data"
    }
   ],
   "source": [
    "#Binned in Excel to capture datapoints\n",
    "#Data for points below came from an excel pivot chart\n",
    "# Labels for the sections of our pie chart\n",
    "labels = [\"Cold\", \"Mild\", \"Just Right\", \"In Hell\"]\n",
    "\n",
    "# The values of each section of the pie chart\n",
    "sizes = [22962, 198693, 127533, 79934]\n",
    "\n",
    "# The colors of each section of the pie chart\n",
    "colors = [\"lightskyblue\", \"yellow\", \"green\", \"red\"]\n",
    "\n",
    "# plot to show accidents and temp\n",
    "\n",
    "plt.pie(sizes, labels=labels, colors=colors,\n",
    "        autopct=\"%1.1f%%\", shadow=True, startangle=140)\n",
    "plt.savefig(\"Images/temp_pie.png\")\n",
    "plt.tight_layout()"
   ]
  },
  {
   "cell_type": "code",
   "execution_count": 22,
   "metadata": {},
   "outputs": [
    {
     "data": {
      "text/html": [
       "<div>\n",
       "<style scoped>\n",
       "    .dataframe tbody tr th:only-of-type {\n",
       "        vertical-align: middle;\n",
       "    }\n",
       "\n",
       "    .dataframe tbody tr th {\n",
       "        vertical-align: top;\n",
       "    }\n",
       "\n",
       "    .dataframe thead th {\n",
       "        text-align: right;\n",
       "    }\n",
       "</style>\n",
       "<table border=\"1\" class=\"dataframe\">\n",
       "  <thead>\n",
       "    <tr style=\"text-align: right;\">\n",
       "      <th></th>\n",
       "      <th>Number of Accidents</th>\n",
       "    </tr>\n",
       "  </thead>\n",
       "  <tbody>\n",
       "    <tr>\n",
       "      <th>100.0</th>\n",
       "      <td>15999</td>\n",
       "    </tr>\n",
       "    <tr>\n",
       "      <th>93.0</th>\n",
       "      <td>14516</td>\n",
       "    </tr>\n",
       "    <tr>\n",
       "      <th>87.0</th>\n",
       "      <td>10071</td>\n",
       "    </tr>\n",
       "    <tr>\n",
       "      <th>90.0</th>\n",
       "      <td>9362</td>\n",
       "    </tr>\n",
       "    <tr>\n",
       "      <th>78.0</th>\n",
       "      <td>8326</td>\n",
       "    </tr>\n",
       "    <tr>\n",
       "      <th>84.0</th>\n",
       "      <td>7610</td>\n",
       "    </tr>\n",
       "    <tr>\n",
       "      <th>81.0</th>\n",
       "      <td>7448</td>\n",
       "    </tr>\n",
       "    <tr>\n",
       "      <th>89.0</th>\n",
       "      <td>7360</td>\n",
       "    </tr>\n",
       "    <tr>\n",
       "      <th>94.0</th>\n",
       "      <td>7316</td>\n",
       "    </tr>\n",
       "    <tr>\n",
       "      <th>83.0</th>\n",
       "      <td>7290</td>\n",
       "    </tr>\n",
       "    <tr>\n",
       "      <th>65.0</th>\n",
       "      <td>7231</td>\n",
       "    </tr>\n",
       "    <tr>\n",
       "      <th>73.0</th>\n",
       "      <td>7174</td>\n",
       "    </tr>\n",
       "    <tr>\n",
       "      <th>61.0</th>\n",
       "      <td>6907</td>\n",
       "    </tr>\n",
       "    <tr>\n",
       "      <th>52.0</th>\n",
       "      <td>6859</td>\n",
       "    </tr>\n",
       "    <tr>\n",
       "      <th>72.0</th>\n",
       "      <td>6781</td>\n",
       "    </tr>\n",
       "    <tr>\n",
       "      <th>96.0</th>\n",
       "      <td>6777</td>\n",
       "    </tr>\n",
       "    <tr>\n",
       "      <th>63.0</th>\n",
       "      <td>6738</td>\n",
       "    </tr>\n",
       "    <tr>\n",
       "      <th>68.0</th>\n",
       "      <td>6732</td>\n",
       "    </tr>\n",
       "    <tr>\n",
       "      <th>59.0</th>\n",
       "      <td>6691</td>\n",
       "    </tr>\n",
       "    <tr>\n",
       "      <th>70.0</th>\n",
       "      <td>6674</td>\n",
       "    </tr>\n",
       "  </tbody>\n",
       "</table>\n",
       "</div>"
      ],
      "text/plain": [
       "       Number of Accidents\n",
       "100.0                15999\n",
       "93.0                 14516\n",
       "87.0                 10071\n",
       "90.0                  9362\n",
       "78.0                  8326\n",
       "84.0                  7610\n",
       "81.0                  7448\n",
       "89.0                  7360\n",
       "94.0                  7316\n",
       "83.0                  7290\n",
       "65.0                  7231\n",
       "73.0                  7174\n",
       "61.0                  6907\n",
       "52.0                  6859\n",
       "72.0                  6781\n",
       "96.0                  6777\n",
       "63.0                  6738\n",
       "68.0                  6732\n",
       "59.0                  6691\n",
       "70.0                  6674"
      ]
     },
     "execution_count": 22,
     "metadata": {},
     "output_type": "execute_result"
    }
   ],
   "source": [
    "#Get number of accidents at humidity points\n",
    "humidity = accident_df[\"Humidity(%)\"].value_counts()\n",
    "humidity_count_df = pd.DataFrame({\"Number of Accidents\":humidity})\n",
    "humidity_count_df = humidity_count_df.sort_values(\"Number of Accidents\", ascending = False)\n",
    "humidity_count_df.head(20)"
   ]
  },
  {
   "cell_type": "code",
   "execution_count": 23,
   "metadata": {},
   "outputs": [
    {
     "data": {
      "text/plain": [
       "I-5 N               5179\n",
       "I-95 N              4275\n",
       "I-405 N             3336\n",
       "I-10 E              3116\n",
       "US-101 N            3105\n",
       "                    ... \n",
       "S Ridgeway Ave         1\n",
       "Fairacres Rd           1\n",
       "S 104th Ave            1\n",
       "Laguna Beach Cir       1\n",
       "Aintree Rd             1\n",
       "Name: Street, Length: 42824, dtype: int64"
      ]
     },
     "execution_count": 23,
     "metadata": {},
     "output_type": "execute_result"
    }
   ],
   "source": [
    "#Distribution plot of accidents occuring on the left/right side of the road\n",
    "street_count = accident_df[\"Street\"].value_counts()\n",
    "street_count"
   ]
  }
 ],
 "metadata": {
  "anaconda-cloud": {},
  "kernelspec": {
   "display_name": "Python 3",
   "language": "python",
   "name": "python3"
  },
  "language_info": {
   "codemirror_mode": {
    "name": "ipython",
    "version": 3
   },
   "file_extension": ".py",
   "mimetype": "text/x-python",
   "name": "python",
   "nbconvert_exporter": "python",
   "pygments_lexer": "ipython3",
   "version": "3.6.9"
  }
 },
 "nbformat": 4,
 "nbformat_minor": 2
}
