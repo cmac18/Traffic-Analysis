{
 "cells": [
  {
   "cell_type": "markdown",
   "metadata": {},
   "source": [
    "## Observations and Insights"
   ]
  },
  {
   "cell_type": "markdown",
   "metadata": {},
   "source": []
  },
  {
   "cell_type": "markdown",
   "metadata": {},
   "source": [
    "## Dependencies and starter code"
   ]
  },
  {
   "cell_type": "code",
   "execution_count": 30,
   "metadata": {},
   "outputs": [
    {
     "data": {
      "text/html": [
       "<div>\n",
       "<style scoped>\n",
       "    .dataframe tbody tr th:only-of-type {\n",
       "        vertical-align: middle;\n",
       "    }\n",
       "\n",
       "    .dataframe tbody tr th {\n",
       "        vertical-align: top;\n",
       "    }\n",
       "\n",
       "    .dataframe thead th {\n",
       "        text-align: right;\n",
       "    }\n",
       "</style>\n",
       "<table border=\"1\" class=\"dataframe\">\n",
       "  <thead>\n",
       "    <tr style=\"text-align: right;\">\n",
       "      <th></th>\n",
       "      <th>ID</th>\n",
       "      <th>Severity</th>\n",
       "      <th>Start_Time</th>\n",
       "      <th>Date</th>\n",
       "      <th>Time</th>\n",
       "      <th>Street</th>\n",
       "      <th>Side</th>\n",
       "      <th>City</th>\n",
       "      <th>State</th>\n",
       "      <th>Temperature(F)</th>\n",
       "      <th>Humidity(%)</th>\n",
       "      <th>Visibility(mi)</th>\n",
       "      <th>Wind_Direction</th>\n",
       "      <th>Wind_Speed(mph)</th>\n",
       "      <th>Precipitation(in)</th>\n",
       "      <th>Weather_Condition</th>\n",
       "      <th>Mil_Time</th>\n",
       "    </tr>\n",
       "  </thead>\n",
       "  <tbody>\n",
       "    <tr>\n",
       "      <th>0</th>\n",
       "      <td>A-45835</td>\n",
       "      <td>3</td>\n",
       "      <td>7/1/2016 0:06</td>\n",
       "      <td>7/1/2016</td>\n",
       "      <td>12:06 AM</td>\n",
       "      <td>Sepulveda Blvd</td>\n",
       "      <td>R</td>\n",
       "      <td>Sherman Oaks</td>\n",
       "      <td>CA</td>\n",
       "      <td>64.9</td>\n",
       "      <td>90.0</td>\n",
       "      <td>9.0</td>\n",
       "      <td>SE</td>\n",
       "      <td>5.8</td>\n",
       "      <td>NaN</td>\n",
       "      <td>Clear</td>\n",
       "      <td>0:06</td>\n",
       "    </tr>\n",
       "    <tr>\n",
       "      <th>1</th>\n",
       "      <td>A-1853</td>\n",
       "      <td>3</td>\n",
       "      <td>7/1/2016 0:08</td>\n",
       "      <td>7/1/2016</td>\n",
       "      <td>12:08 AM</td>\n",
       "      <td>Nimitz Fwy S</td>\n",
       "      <td>R</td>\n",
       "      <td>Fremont</td>\n",
       "      <td>CA</td>\n",
       "      <td>57.9</td>\n",
       "      <td>70.0</td>\n",
       "      <td>8.0</td>\n",
       "      <td>NNE</td>\n",
       "      <td>5.8</td>\n",
       "      <td>NaN</td>\n",
       "      <td>Clear</td>\n",
       "      <td>0:08</td>\n",
       "    </tr>\n",
       "    <tr>\n",
       "      <th>2</th>\n",
       "      <td>A-218020</td>\n",
       "      <td>3</td>\n",
       "      <td>7/1/2016 0:09</td>\n",
       "      <td>7/1/2016</td>\n",
       "      <td>12:09 AM</td>\n",
       "      <td>New England Trwy S</td>\n",
       "      <td>R</td>\n",
       "      <td>Mamaroneck</td>\n",
       "      <td>NY</td>\n",
       "      <td>66.9</td>\n",
       "      <td>84.0</td>\n",
       "      <td>10.0</td>\n",
       "      <td>Calm</td>\n",
       "      <td>NaN</td>\n",
       "      <td>NaN</td>\n",
       "      <td>Mostly Cloudy</td>\n",
       "      <td>0:09</td>\n",
       "    </tr>\n",
       "    <tr>\n",
       "      <th>3</th>\n",
       "      <td>A-45838</td>\n",
       "      <td>3</td>\n",
       "      <td>7/1/2016 0:10</td>\n",
       "      <td>7/1/2016</td>\n",
       "      <td>12:10 AM</td>\n",
       "      <td>Golden State Fwy S</td>\n",
       "      <td>R</td>\n",
       "      <td>Los Angeles</td>\n",
       "      <td>CA</td>\n",
       "      <td>66.9</td>\n",
       "      <td>79.0</td>\n",
       "      <td>10.0</td>\n",
       "      <td>Calm</td>\n",
       "      <td>NaN</td>\n",
       "      <td>NaN</td>\n",
       "      <td>Mostly Cloudy</td>\n",
       "      <td>0:10</td>\n",
       "    </tr>\n",
       "    <tr>\n",
       "      <th>4</th>\n",
       "      <td>A-257722</td>\n",
       "      <td>3</td>\n",
       "      <td>7/1/2016 0:11</td>\n",
       "      <td>7/1/2016</td>\n",
       "      <td>12:11 AM</td>\n",
       "      <td>I-76 E</td>\n",
       "      <td>R</td>\n",
       "      <td>Gloucester City</td>\n",
       "      <td>NJ</td>\n",
       "      <td>73.9</td>\n",
       "      <td>66.0</td>\n",
       "      <td>10.0</td>\n",
       "      <td>SSW</td>\n",
       "      <td>10.4</td>\n",
       "      <td>NaN</td>\n",
       "      <td>Mostly Cloudy</td>\n",
       "      <td>0:11</td>\n",
       "    </tr>\n",
       "  </tbody>\n",
       "</table>\n",
       "</div>"
      ],
      "text/plain": [
       "         ID  Severity     Start_Time      Date      Time              Street  \\\n",
       "0   A-45835         3  7/1/2016 0:06  7/1/2016  12:06 AM      Sepulveda Blvd   \n",
       "1    A-1853         3  7/1/2016 0:08  7/1/2016  12:08 AM        Nimitz Fwy S   \n",
       "2  A-218020         3  7/1/2016 0:09  7/1/2016  12:09 AM  New England Trwy S   \n",
       "3   A-45838         3  7/1/2016 0:10  7/1/2016  12:10 AM  Golden State Fwy S   \n",
       "4  A-257722         3  7/1/2016 0:11  7/1/2016  12:11 AM              I-76 E   \n",
       "\n",
       "  Side             City State  Temperature(F)  Humidity(%)  Visibility(mi)  \\\n",
       "0    R     Sherman Oaks    CA            64.9         90.0             9.0   \n",
       "1    R          Fremont    CA            57.9         70.0             8.0   \n",
       "2    R       Mamaroneck    NY            66.9         84.0            10.0   \n",
       "3    R      Los Angeles    CA            66.9         79.0            10.0   \n",
       "4    R  Gloucester City    NJ            73.9         66.0            10.0   \n",
       "\n",
       "  Wind_Direction  Wind_Speed(mph)  Precipitation(in) Weather_Condition  \\\n",
       "0             SE              5.8                NaN             Clear   \n",
       "1            NNE              5.8                NaN             Clear   \n",
       "2           Calm              NaN                NaN     Mostly Cloudy   \n",
       "3           Calm              NaN                NaN     Mostly Cloudy   \n",
       "4            SSW             10.4                NaN     Mostly Cloudy   \n",
       "\n",
       "  Mil_Time  \n",
       "0     0:06  \n",
       "1     0:08  \n",
       "2     0:09  \n",
       "3     0:10  \n",
       "4     0:11  "
      ]
     },
     "execution_count": 30,
     "metadata": {},
     "output_type": "execute_result"
    }
   ],
   "source": [
    "#Please cite the following papers if you use this dataset:\n",
    "\n",
    "#Moosavi, Sobhan, Mohammad Hossein Samavatian, Srinivasan Parthasarathy, and Rajiv Ramnath. “A Countrywide Traffic Accident Dataset.”, 2019.\n",
    "\n",
    "#Moosavi, Sobhan, Mohammad Hossein Samavatian, Srinivasan Parthasarathy, Radu Teodorescu, and Rajiv Ramnath. \"Accident Risk Prediction based on Heterogeneous Sparse Data: New Dataset and Insights.\" In proceedings of the 27th ACM SIGSPATIAL International Conference on Advances in Geographic Information Systems, ACM, 2019.\n",
    "\n",
    "# Dependencies and Setup\n",
    "import json\n",
    "import requests\n",
    "import pandas as pd\n",
    "import gmaps\n",
    "import matplotlib.pyplot as plt\n",
    "\n",
    "traffic = \"accident_data_v2.csv\"\n",
    "traffic_df = pd.read_csv(traffic)\n",
    "\n",
    "location = \"accident_location.csv\"\n",
    "location_df = pd.read_csv(location)\n",
    "\n",
    "date_time = \"accident_date_time.csv\"\n",
    "date_time_df = pd.read_csv(date_time)\n",
    "\n",
    "weather = \"accident_weather.csv\"\n",
    "weather_df = pd.read_csv(weather)\n",
    "\n",
    "severity = \"accident_severity.csv\"\n",
    "severity_df = pd.read_csv(severity)\n",
    "\n",
    "# Convert to DataFrame\n",
    "traffic_df = pd.DataFrame(traffic_df)\n",
    "traffic_df.head()"
   ]
  },
  {
   "cell_type": "code",
   "execution_count": 31,
   "metadata": {},
   "outputs": [
    {
     "data": {
      "text/plain": [
       "ID                   439005\n",
       "Severity             439005\n",
       "Start_Time           439005\n",
       "Date                 439005\n",
       "Time                 439005\n",
       "Street               439005\n",
       "Side                 439005\n",
       "City                 438987\n",
       "State                439005\n",
       "Temperature(F)       429136\n",
       "Humidity(%)          428549\n",
       "Visibility(mi)       426066\n",
       "Wind_Direction       432006\n",
       "Wind_Speed(mph)      357119\n",
       "Precipitation(in)     45349\n",
       "Weather_Condition    426406\n",
       "Mil_Time             439005\n",
       "dtype: int64"
      ]
     },
     "execution_count": 31,
     "metadata": {},
     "output_type": "execute_result"
    }
   ],
   "source": [
    "traffic_df.count()"
   ]
  },
  {
   "cell_type": "code",
   "execution_count": 32,
   "metadata": {},
   "outputs": [
    {
     "data": {
      "text/plain": [
       "439005"
      ]
     },
     "execution_count": 32,
     "metadata": {},
     "output_type": "execute_result"
    }
   ],
   "source": [
    "total_accidents = len(traffic_df['ID'].unique())\n",
    "total_accidents"
   ]
  },
  {
   "cell_type": "code",
   "execution_count": 33,
   "metadata": {},
   "outputs": [
    {
     "data": {
      "text/plain": [
       "CA    132185\n",
       "TX     74803\n",
       "FL     46349\n",
       "PA     29872\n",
       "MI     24276\n",
       "NY     24059\n",
       "GA     17299\n",
       "IL     16454\n",
       "WA     10710\n",
       "MD      9836\n",
       "OH      9045\n",
       "NJ      8267\n",
       "MA      7724\n",
       "VA      7627\n",
       "NE      6426\n",
       "CT      3923\n",
       "SC      3825\n",
       "IA      1932\n",
       "MO      1849\n",
       "RI      1509\n",
       "DC       574\n",
       "NH       145\n",
       "DE        99\n",
       "WI        68\n",
       "OR        62\n",
       "IN        41\n",
       "WV        40\n",
       "AL         3\n",
       "KY         3\n",
       "Name: State, dtype: int64"
      ]
     },
     "execution_count": 33,
     "metadata": {},
     "output_type": "execute_result"
    }
   ],
   "source": [
    "accidents_by_state = traffic_df[\"State\"].value_counts()\n",
    "accidents_by_state"
   ]
  },
  {
   "cell_type": "code",
   "execution_count": 34,
   "metadata": {},
   "outputs": [
    {
     "data": {
      "image/png": "[encoded data removed]",
      "text/plain": [
       "<Figure size 720x432 with 1 Axes>"
      ]
     },
     "metadata": {
      "needs_background": "light"
     },
     "output_type": "display_data"
    }
   ],
   "source": [
    "chart_accidents_by_state = accidents_by_state.plot(kind='bar', rot=50, figsize = (10, 6), width = .8)\n",
    "plt.title(\"Accidents by State\")\n",
    "plt.xlabel(\"State\")\n",
    "plt.ylabel(\"Number of Accidents\")\n",
    "plt.tight_layout()\n",
    "plt.show()"
   ]
  },
  {
   "cell_type": "code",
   "execution_count": 24,
   "metadata": {},
   "outputs": [
    {
     "data": {
      "text/plain": [
       "8:50 AM    694\n",
       "8:58 AM    684\n",
       "8:49 AM    683\n",
       "8:07 AM    680\n",
       "8:57 AM    678\n",
       "8:05 AM    678\n",
       "8:56 AM    673\n",
       "7:53 AM    658\n",
       "7:50 AM    657\n",
       "8:52 AM    650\n",
       "7:58 AM    649\n",
       "7:52 AM    643\n",
       "8:08 AM    643\n",
       "8:53 AM    641\n",
       "8:12 AM    639\n",
       "7:54 AM    639\n",
       "8:36 AM    639\n",
       "8:55 AM    638\n",
       "8:19 AM    636\n",
       "7:55 AM    635\n",
       "8:47 AM    635\n",
       "8:06 AM    634\n",
       "7:56 AM    633\n",
       "8:24 AM    632\n",
       "7:57 AM    631\n",
       "8:04 AM    630\n",
       "8:10 AM    626\n",
       "8:37 AM    625\n",
       "8:54 AM    625\n",
       "8:48 AM    622\n",
       "8:14 AM    621\n",
       "7:43 AM    619\n",
       "8:17 AM    619\n",
       "7:59 AM    618\n",
       "7:51 AM    618\n",
       "8:00 AM    617\n",
       "7:48 AM    616\n",
       "8:51 AM    614\n",
       "8:38 AM    611\n",
       "8:27 AM    611\n",
       "8:03 AM    611\n",
       "8:46 AM    610\n",
       "8:13 AM    609\n",
       "7:49 AM    609\n",
       "8:45 AM    609\n",
       "7:46 AM    609\n",
       "7:47 AM    609\n",
       "8:28 AM    607\n",
       "8:18 AM    606\n",
       "8:43 AM    606\n",
       "Name: Time, dtype: int64"
      ]
     },
     "execution_count": 24,
     "metadata": {},
     "output_type": "execute_result"
    }
   ],
   "source": [
    "accident_time = traffic_df[\"Time\"].value_counts()\n",
    "accident_time.head(50)"
   ]
  },
  {
   "cell_type": "code",
   "execution_count": 26,
   "metadata": {},
   "outputs": [
    {
     "ename": "SyntaxError",
     "evalue": "invalid syntax (<ipython-input-26-c02b123735ac>, line 2)",
     "output_type": "error",
     "traceback": [
      "\u001b[1;36m  File \u001b[1;32m\"<ipython-input-26-c02b123735ac>\"\u001b[1;36m, line \u001b[1;32m2\u001b[0m\n\u001b[1;33m    bins = [24:59, 6:59, 8:59, 12:59, 15:59, 17:59, 20:59, 24:58]\u001b[0m\n\u001b[1;37m              ^\u001b[0m\n\u001b[1;31mSyntaxError\u001b[0m\u001b[1;31m:\u001b[0m invalid syntax\n"
     ]
    }
   ],
   "source": [
    "#Bin time of day accidents occur\n",
    "bins = [24:59, 6:59, 8:59, 12:59, 15:59, 17:59, 20:59, 24:58]\n",
    "Time = [\"Early Hours\", \"Morning Rush\", \"Lunch\", \"Evening Rush\", \"Evening\", \"Late\", \"late Night\"]"
   ]
  },
  {
   "cell_type": "code",
   "execution_count": 12,
   "metadata": {},
   "outputs": [
    {
     "ename": "NameError",
     "evalue": "name 'bins' is not defined",
     "output_type": "error",
     "traceback": [
      "\u001b[1;31m---------------------------------------------------------------------------\u001b[0m",
      "\u001b[1;31mNameError\u001b[0m                                 Traceback (most recent call last)",
      "\u001b[1;32m<ipython-input-12-1497f858f73a>\u001b[0m in \u001b[0;36m<module>\u001b[1;34m\u001b[0m\n\u001b[1;32m----> 1\u001b[1;33m \u001b[0maccident_time_df\u001b[0m\u001b[1;33m[\u001b[0m\u001b[1;34m\"Accident Time Summary\"\u001b[0m\u001b[1;33m]\u001b[0m \u001b[1;33m=\u001b[0m \u001b[0mpd\u001b[0m\u001b[1;33m.\u001b[0m\u001b[0mcut\u001b[0m\u001b[1;33m(\u001b[0m\u001b[0mtraffic_df\u001b[0m\u001b[1;33m[\u001b[0m\u001b[1;34m\"Mil_Time\"\u001b[0m\u001b[1;33m]\u001b[0m\u001b[1;33m,\u001b[0m \u001b[0mbins\u001b[0m\u001b[1;33m,\u001b[0m \u001b[0mlabels\u001b[0m \u001b[1;33m=\u001b[0m \u001b[0mTime\u001b[0m\u001b[1;33m)\u001b[0m\u001b[1;33m\u001b[0m\u001b[1;33m\u001b[0m\u001b[0m\n\u001b[0m\u001b[0;32m      2\u001b[0m \u001b[0maccident_time_df\u001b[0m\u001b[1;33m\u001b[0m\u001b[1;33m\u001b[0m\u001b[0m\n",
      "\u001b[1;31mNameError\u001b[0m: name 'bins' is not defined"
     ]
    }
   ],
   "source": [
    "accident_time_df[\"Accident Time Summary\"] = pd.cut(traffic_df[\"Mil_Time\"], bins, labels = Time)\n",
    "accident_time_df"
   ]
  },
  {
   "cell_type": "code",
   "execution_count": 27,
   "metadata": {},
   "outputs": [
    {
     "data": {
      "text/plain": [
       "11/30/2016    2138\n",
       "12/16/2016    2110\n",
       "11/29/2016    2081\n",
       "11/15/2016    2078\n",
       "11/23/2016    2064\n",
       "11/21/2016    2054\n",
       "11/22/2016    2040\n",
       "11/14/2016    2026\n",
       "11/10/2016    2024\n",
       "11/16/2016    2020\n",
       "1/11/2017     2015\n",
       "12/5/2016     2007\n",
       "11/3/2016     2004\n",
       "11/18/2016    2000\n",
       "11/8/2016     1995\n",
       "11/17/2016    1949\n",
       "11/28/2016    1946\n",
       "11/7/2016     1945\n",
       "11/1/2016     1931\n",
       "1/10/2017     1920\n",
       "12/15/2016    1906\n",
       "11/2/2016     1888\n",
       "10/19/2016    1884\n",
       "12/20/2016    1879\n",
       "10/14/2016    1877\n",
       "10/17/2016    1860\n",
       "11/4/2016     1856\n",
       "10/31/2016    1835\n",
       "11/9/2016     1831\n",
       "12/8/2016     1821\n",
       "10/26/2016    1816\n",
       "2/9/2017      1814\n",
       "10/4/2016     1808\n",
       "12/7/2016     1798\n",
       "12/6/2016     1790\n",
       "12/13/2016    1784\n",
       "12/14/2016    1783\n",
       "2/24/2017     1781\n",
       "12/12/2016    1780\n",
       "9/6/2016      1779\n",
       "9/15/2016     1762\n",
       "10/13/2016    1761\n",
       "9/30/2016     1761\n",
       "1/31/2017     1760\n",
       "9/1/2016      1757\n",
       "12/19/2016    1753\n",
       "12/22/2016    1750\n",
       "12/1/2016     1749\n",
       "10/11/2016    1744\n",
       "9/13/2016     1739\n",
       "Name: Date, dtype: int64"
      ]
     },
     "execution_count": 27,
     "metadata": {},
     "output_type": "execute_result"
    }
   ],
   "source": [
    "accident_date = traffic_df[\"Date\"].value_counts()\n",
    "accident_date.head(50)"
   ]
  },
  {
   "cell_type": "code",
   "execution_count": null,
   "metadata": {},
   "outputs": [],
   "source": [
    "#Create binning by month or holiday?"
   ]
  },
  {
   "cell_type": "code",
   "execution_count": 15,
   "metadata": {},
   "outputs": [
    {
     "data": {
      "text/plain": [
       "R    358017\n",
       "L     80987\n",
       "          1\n",
       "Name: Side, dtype: int64"
      ]
     },
     "execution_count": 15,
     "metadata": {},
     "output_type": "execute_result"
    }
   ],
   "source": [
    "#Distribution plot of accidents occuring on the left/right side of the road\n",
    "road_side_count = traffic_df[\"Side\"].value_counts()\n",
    "road_side_count"
   ]
  },
  {
   "cell_type": "code",
   "execution_count": 16,
   "metadata": {},
   "outputs": [
    {
     "data": {
      "text/plain": [
       "State  Side\n",
       "AL     L            2\n",
       "       R            1\n",
       "CA     R       117160\n",
       "       L        15024\n",
       "                    1\n",
       "CT     R         3516\n",
       "       L          407\n",
       "DC     R          478\n",
       "       L           96\n",
       "DE     R           79\n",
       "       L           20\n",
       "FL     R        38372\n",
       "       L         7977\n",
       "GA     R        15003\n",
       "       L         2296\n",
       "IA     R         1637\n",
       "       L          295\n",
       "IL     R        11575\n",
       "       L         4879\n",
       "IN     R           40\n",
       "       L            1\n",
       "KY     L            3\n",
       "MA     R         6257\n",
       "       L         1467\n",
       "MD     R         8833\n",
       "       L         1003\n",
       "MI     R        18194\n",
       "       L         6082\n",
       "MO     R         1773\n",
       "       L           76\n",
       "NE     R         4593\n",
       "       L         1833\n",
       "NH     R          106\n",
       "       L           39\n",
       "NJ     R         6923\n",
       "       L         1344\n",
       "NY     R        21431\n",
       "       L         2628\n",
       "OH     R         6967\n",
       "       L         2078\n",
       "OR     R           34\n",
       "       L           28\n",
       "PA     R        19622\n",
       "       L        10250\n",
       "RI     R         1399\n",
       "       L          110\n",
       "SC     R         2560\n",
       "       L         1265\n",
       "TX     R        56633\n",
       "       L        18170\n",
       "VA     R         6651\n",
       "       L          976\n",
       "WA     R         8079\n",
       "       L         2631\n",
       "WI     R           65\n",
       "       L            3\n",
       "WV     R           36\n",
       "       L            4\n",
       "Name: Side, dtype: int64"
      ]
     },
     "execution_count": 16,
     "metadata": {},
     "output_type": "execute_result"
    }
   ],
   "source": [
    "#Distribution plot of accidents occuring on the left/right side of the road by state\n",
    "traffic_df_grouped_by_side = traffic_df.groupby([\"State\"])\n",
    "road_side_count = traffic_df_grouped_by_side[\"Side\"].value_counts()\n",
    "\n",
    "road_side_count\n",
    "\n",
    "####May need to create a data frame in order to pivot, \n",
    "#need L and R in columns with count in rows, indexed by State"
   ]
  },
  {
   "cell_type": "code",
   "execution_count": null,
   "metadata": {},
   "outputs": [],
   "source": []
  },
  {
   "cell_type": "code",
   "execution_count": null,
   "metadata": {},
   "outputs": [],
   "source": []
  }
 ],
 "metadata": {
  "anaconda-cloud": {},
  "kernelspec": {
   "display_name": "Python 3",
   "language": "python",
   "name": "python3"
  },
  "language_info": {
   "codemirror_mode": {
    "name": "ipython",
    "version": 3
   },
   "file_extension": ".py",
   "mimetype": "text/x-python",
   "name": "python",
   "nbconvert_exporter": "python",
   "pygments_lexer": "ipython3",
   "version": "3.6.9"
  }
 },
 "nbformat": 4,
 "nbformat_minor": 2
}
